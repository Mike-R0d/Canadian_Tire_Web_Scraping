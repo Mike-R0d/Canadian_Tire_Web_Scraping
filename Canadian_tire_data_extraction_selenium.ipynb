{
 "cells": [
  {
   "cell_type": "markdown",
   "id": "2b1511da",
   "metadata": {},
   "source": [
    "# Importacion de librerias"
   ]
  },
  {
   "cell_type": "code",
   "execution_count": 121,
   "id": "cd14abc2",
   "metadata": {
    "ExecuteTime": {
     "end_time": "2022-09-16T00:01:40.306727Z",
     "start_time": "2022-09-16T00:01:40.299730Z"
    }
   },
   "outputs": [],
   "source": [
    "# selenium 4 para obter el cromedriver correcto\n",
    "!pip install -U selenium\n",
    "!pip install webdriver-manager\n",
    "from selenium import webdriver\n",
    "from selenium.webdriver.chrome.service import Service\n",
    "from webdriver_manager.chrome import ChromeDriverManager\n",
    "driver = webdriver.Chrome(service=Service(ChromeDriverManager().install()))"
   ]
  },
  {
   "cell_type": "code",
   "execution_count": 122,
   "id": "e99c7ab7",
   "metadata": {
    "ExecuteTime": {
     "end_time": "2022-09-16T00:01:42.475310Z",
     "start_time": "2022-09-16T00:01:42.465318Z"
    }
   },
   "outputs": [],
   "source": [
    "import pandas as pd\n",
    "import datetime as time\n",
    "import re\n",
    "from selenium import webdriver\n",
    "# from selenium.webdriver.common import keys;\n",
    "from selenium.webdriver.common.by import By\n",
    "from selenium.webdriver.common.keys import Keys\n",
    "import random\n",
    "import requests\n",
    "from bs4 import BeautifulSoup\n",
    "import pandas as pd\n",
    "import datetime\n",
    "import time\n",
    "from datetime import date"
   ]
  },
  {
   "cell_type": "code",
   "execution_count": 123,
   "id": "6e7b56af",
   "metadata": {
    "ExecuteTime": {
     "end_time": "2022-09-16T00:01:45.130145Z",
     "start_time": "2022-09-16T00:01:45.122149Z"
    }
   },
   "outputs": [],
   "source": [
    "import random\n",
    "from selenium import webdriver\n",
    "from time import sleep\n",
    "from selenium.webdriver.common.by import By\n",
    "from selenium.webdriver.support import expected_conditions as EC\n",
    "from selenium.webdriver.support.ui import WebDriverWait"
   ]
  },
  {
   "cell_type": "code",
   "execution_count": 124,
   "id": "040f63f9",
   "metadata": {
    "ExecuteTime": {
     "end_time": "2022-09-16T00:01:49.096069Z",
     "start_time": "2022-09-16T00:01:49.082077Z"
    }
   },
   "outputs": [],
   "source": [
    "# # 1\n",
    "# option = Options()\n",
    "# option.binary_location='/Applications/Google Chrome \n",
    "# Beta.app/Contents/MacOS/Google Chrome Beta'\n",
    "\n",
    "# 2\n",
    "# driver = webdriver.Chrome(service=Service(ChromeDriverManager(version='104.0.5112.20').install()), Options=option)"
   ]
  },
  {
   "cell_type": "markdown",
   "id": "54f2718e",
   "metadata": {
    "ExecuteTime": {
     "end_time": "2022-06-13T03:55:25.572337Z",
     "start_time": "2022-06-13T03:55:25.561347Z"
    }
   },
   "source": [
    "# Conexion a la pagina web"
   ]
  },
  {
   "cell_type": "code",
   "execution_count": 130,
   "id": "b643dcfd",
   "metadata": {
    "ExecuteTime": {
     "end_time": "2022-09-16T00:08:20.573530Z",
     "start_time": "2022-09-16T00:08:14.453970Z"
    }
   },
   "outputs": [
    {
     "name": "stderr",
     "output_type": "stream",
     "text": [
      "C:\\Users\\Admin\\AppData\\Local\\Temp/ipykernel_31480/1846250857.py:4: DeprecationWarning: executable_path has been deprecated, please pass in a Service object\n",
      "  browser = webdriver.Chrome(executable_path=driver_path)\n"
     ]
    }
   ],
   "source": [
    "# https://pypi.org/project/webdriver-manager/\n",
    "driver_path = r'E:\\Scripts\\Market of labor\\Selenium\\chromedriver.exe'\n",
    "# Llamamos al chrome driver\n",
    "browser = webdriver.Chrome(executable_path=driver_path)\n",
    "# Parametrizamos la pagina desde donde extraeremos la información\n",
    "# url = browser.get('https://www.canadiantire.ca/en/cat/toys-sports-recreation/bikes-accessories/bikes-DC0002129.html?page=2')\n",
    "url = browser.get('https://www.canadiantire.ca/en/cat/toys-sports-recreation/bikes-accessories/bikes-DC0002153.html?page=2')"
   ]
  },
  {
   "cell_type": "code",
   "execution_count": 131,
   "id": "f99c6b5b",
   "metadata": {
    "ExecuteTime": {
     "end_time": "2022-09-16T00:08:26.696972Z",
     "start_time": "2022-09-16T00:08:26.237918Z"
    }
   },
   "outputs": [],
   "source": [
    "browser.set_window_size(1024, 600)\n",
    "browser.maximize_window()"
   ]
  },
  {
   "cell_type": "code",
   "execution_count": 132,
   "id": "927b0aed",
   "metadata": {
    "ExecuteTime": {
     "end_time": "2022-09-16T00:08:44.738807Z",
     "start_time": "2022-09-16T00:08:44.654060Z"
    }
   },
   "outputs": [
    {
     "data": {
      "text/plain": [
       "4"
      ]
     },
     "execution_count": 132,
     "metadata": {},
     "output_type": "execute_result"
    }
   ],
   "source": [
    "n = browser.find_element(By.XPATH, './/div[@class=\"nl-filters__sorting\"]').text.replace(' results\\nIn Stock At My Store\\nSale Items','').strip()\n",
    "n = int(int(n)/24)+1\n",
    "n"
   ]
  },
  {
   "cell_type": "markdown",
   "id": "5f8fa47b",
   "metadata": {},
   "source": [
    "# Parametrizacion de la busqueda"
   ]
  },
  {
   "cell_type": "code",
   "execution_count": 133,
   "id": "f2caa4d4",
   "metadata": {
    "ExecuteTime": {
     "end_time": "2022-09-16T00:08:48.248730Z",
     "start_time": "2022-09-16T00:08:48.237717Z"
    }
   },
   "outputs": [],
   "source": [
    "base_url = \"https://www.canadiantire.ca\"\n",
    "language = \"en\"\n",
    "xxx = 'cat'\n",
    "category = 'toys-sports-recreation'\n",
    "sub_category = 'bikes-accessories'\n",
    "keyword = 'bikes-DC0002129'\n",
    "page = 'bikes'\n",
    "i = 1"
   ]
  },
  {
   "cell_type": "markdown",
   "id": "a6e12b05",
   "metadata": {},
   "source": [
    "# Contabilizacion de las iteraciones a realizar"
   ]
  },
  {
   "cell_type": "code",
   "execution_count": 135,
   "id": "6cc49cb3",
   "metadata": {
    "ExecuteTime": {
     "end_time": "2022-09-16T00:08:55.136185Z",
     "start_time": "2022-09-16T00:08:55.118195Z"
    }
   },
   "outputs": [],
   "source": [
    "ad_linksx = []\n",
    "\n",
    "for i in range(n):\n",
    "    url = base_url + '/'+language+'/'+xxx+'/'+category+'/'+sub_category+'/'+keyword+'.html?page='+str(i+1)\n",
    "    ad_linksx.append(url)"
   ]
  },
  {
   "cell_type": "code",
   "execution_count": 136,
   "id": "fc21aba5",
   "metadata": {
    "ExecuteTime": {
     "end_time": "2022-09-16T00:08:57.651021Z",
     "start_time": "2022-09-16T00:08:57.638027Z"
    }
   },
   "outputs": [
    {
     "data": {
      "text/plain": [
       "['https://www.canadiantire.ca/en/cat/toys-sports-recreation/bikes-accessories/bikes-DC0002129.html?page=1',\n",
       " 'https://www.canadiantire.ca/en/cat/toys-sports-recreation/bikes-accessories/bikes-DC0002129.html?page=2',\n",
       " 'https://www.canadiantire.ca/en/cat/toys-sports-recreation/bikes-accessories/bikes-DC0002129.html?page=3',\n",
       " 'https://www.canadiantire.ca/en/cat/toys-sports-recreation/bikes-accessories/bikes-DC0002129.html?page=4']"
      ]
     },
     "execution_count": 136,
     "metadata": {},
     "output_type": "execute_result"
    }
   ],
   "source": [
    "ad_linksx"
   ]
  },
  {
   "cell_type": "code",
   "execution_count": 141,
   "id": "8f147508",
   "metadata": {
    "ExecuteTime": {
     "end_time": "2022-09-16T00:16:46.966493Z",
     "start_time": "2022-09-16T00:15:48.398392Z"
    }
   },
   "outputs": [
    {
     "data": {
      "text/html": [
       "<div>\n",
       "<style scoped>\n",
       "    .dataframe tbody tr th:only-of-type {\n",
       "        vertical-align: middle;\n",
       "    }\n",
       "\n",
       "    .dataframe tbody tr th {\n",
       "        vertical-align: top;\n",
       "    }\n",
       "\n",
       "    .dataframe thead th {\n",
       "        text-align: right;\n",
       "    }\n",
       "</style>\n",
       "<table border=\"1\" class=\"dataframe\">\n",
       "  <thead>\n",
       "    <tr style=\"text-align: right;\">\n",
       "      <th></th>\n",
       "      <th>link</th>\n",
       "      <th>title</th>\n",
       "      <th>sku</th>\n",
       "      <th>price</th>\n",
       "      <th>stock</th>\n",
       "    </tr>\n",
       "  </thead>\n",
       "  <tbody>\n",
       "    <tr>\n",
       "      <th>0</th>\n",
       "      <td>https://www.canadiantire.ca/en/pdp/supercycle-...</td>\n",
       "      <td>Supercycle Scrim HT Mountain Bike, 26-in</td>\n",
       "      <td>399-8529-8</td>\n",
       "      <td>149.99</td>\n",
       "      <td>18</td>\n",
       "    </tr>\n",
       "    <tr>\n",
       "      <th>1</th>\n",
       "      <td>https://www.canadiantire.ca/en/pdp/supercycle-...</td>\n",
       "      <td>Supercycle 1800 Women's Rigid Mountain Bike, 1...</td>\n",
       "      <td>071-1557-0</td>\n",
       "      <td>174.99</td>\n",
       "      <td>14</td>\n",
       "    </tr>\n",
       "    <tr>\n",
       "      <th>2</th>\n",
       "      <td>https://www.canadiantire.ca/en/pdp/raleigh-get...</td>\n",
       "      <td>Raleigh Getaway Men's Electric Bike, 32Km/h Ma...</td>\n",
       "      <td>071-1931-8</td>\n",
       "      <td>2,799.99</td>\n",
       "      <td>1</td>\n",
       "    </tr>\n",
       "    <tr>\n",
       "      <th>3</th>\n",
       "      <td>https://www.canadiantire.ca/en/pdp/supercycle-...</td>\n",
       "      <td>Supercycle 1800 Youth Rigid Mountain Bike, Bla...</td>\n",
       "      <td>071-1558-8</td>\n",
       "      <td>174.99</td>\n",
       "      <td>41</td>\n",
       "    </tr>\n",
       "    <tr>\n",
       "      <th>4</th>\n",
       "      <td>https://www.canadiantire.ca/en/pdp/supercycle-...</td>\n",
       "      <td>Supercycle Phantom Hardtail Mountain Bike, 21-...</td>\n",
       "      <td>071-1061-8</td>\n",
       "      <td>229.99</td>\n",
       "      <td>9</td>\n",
       "    </tr>\n",
       "    <tr>\n",
       "      <th>...</th>\n",
       "      <td>...</td>\n",
       "      <td>...</td>\n",
       "      <td>...</td>\n",
       "      <td>...</td>\n",
       "      <td>...</td>\n",
       "    </tr>\n",
       "    <tr>\n",
       "      <th>155</th>\n",
       "      <td>https://www.canadiantire.ca/en/pdp/raleigh-ove...</td>\n",
       "      <td>Raleigh Overtake Hybrid Bike, White, 21-Speed,...</td>\n",
       "      <td>071-1981-8</td>\n",
       "      <td>472.49</td>\n",
       "      <td>1</td>\n",
       "    </tr>\n",
       "    <tr>\n",
       "      <th>156</th>\n",
       "      <td>https://www.canadiantire.ca/en/pdp/supercycle-...</td>\n",
       "      <td>Supercycle Pixie Dust Kids' Bike, 12-in, Singl...</td>\n",
       "      <td>071-1797-8</td>\n",
       "      <td>89.99</td>\n",
       "      <td>0</td>\n",
       "    </tr>\n",
       "    <tr>\n",
       "      <th>157</th>\n",
       "      <td>https://www.canadiantire.ca/en/pdp/supercycle-...</td>\n",
       "      <td>Supercycle Uproar Kids' Bike, 12-in, Training ...</td>\n",
       "      <td>071-1749-4</td>\n",
       "      <td>109.99</td>\n",
       "      <td>1</td>\n",
       "    </tr>\n",
       "    <tr>\n",
       "      <th>158</th>\n",
       "      <td>https://www.canadiantire.ca/en/pdp/supercycle-...</td>\n",
       "      <td>Supercycle Pathway Comfort Bike, Black, 26-in,...</td>\n",
       "      <td>071-1792-8</td>\n",
       "      <td>299.99</td>\n",
       "      <td>1</td>\n",
       "    </tr>\n",
       "    <tr>\n",
       "      <th>159</th>\n",
       "      <td>https://www.canadiantire.ca/en/pdp/supercycle-...</td>\n",
       "      <td>Supercycle Azalea Women's Comfort Bike, 26-in</td>\n",
       "      <td>071-1962-4</td>\n",
       "      <td>399.99</td>\n",
       "      <td>1</td>\n",
       "    </tr>\n",
       "  </tbody>\n",
       "</table>\n",
       "<p>160 rows × 5 columns</p>\n",
       "</div>"
      ],
      "text/plain": [
       "                                                  link  \\\n",
       "0    https://www.canadiantire.ca/en/pdp/supercycle-...   \n",
       "1    https://www.canadiantire.ca/en/pdp/supercycle-...   \n",
       "2    https://www.canadiantire.ca/en/pdp/raleigh-get...   \n",
       "3    https://www.canadiantire.ca/en/pdp/supercycle-...   \n",
       "4    https://www.canadiantire.ca/en/pdp/supercycle-...   \n",
       "..                                                 ...   \n",
       "155  https://www.canadiantire.ca/en/pdp/raleigh-ove...   \n",
       "156  https://www.canadiantire.ca/en/pdp/supercycle-...   \n",
       "157  https://www.canadiantire.ca/en/pdp/supercycle-...   \n",
       "158  https://www.canadiantire.ca/en/pdp/supercycle-...   \n",
       "159  https://www.canadiantire.ca/en/pdp/supercycle-...   \n",
       "\n",
       "                                                 title         sku     price  \\\n",
       "0             Supercycle Scrim HT Mountain Bike, 26-in  399-8529-8    149.99   \n",
       "1    Supercycle 1800 Women's Rigid Mountain Bike, 1...  071-1557-0    174.99   \n",
       "2    Raleigh Getaway Men's Electric Bike, 32Km/h Ma...  071-1931-8  2,799.99   \n",
       "3    Supercycle 1800 Youth Rigid Mountain Bike, Bla...  071-1558-8    174.99   \n",
       "4    Supercycle Phantom Hardtail Mountain Bike, 21-...  071-1061-8    229.99   \n",
       "..                                                 ...         ...       ...   \n",
       "155  Raleigh Overtake Hybrid Bike, White, 21-Speed,...  071-1981-8    472.49   \n",
       "156  Supercycle Pixie Dust Kids' Bike, 12-in, Singl...  071-1797-8     89.99   \n",
       "157  Supercycle Uproar Kids' Bike, 12-in, Training ...  071-1749-4    109.99   \n",
       "158  Supercycle Pathway Comfort Bike, Black, 26-in,...  071-1792-8    299.99   \n",
       "159      Supercycle Azalea Women's Comfort Bike, 26-in  071-1962-4    399.99   \n",
       "\n",
       "    stock  \n",
       "0      18  \n",
       "1      14  \n",
       "2       1  \n",
       "3      41  \n",
       "4       9  \n",
       "..    ...  \n",
       "155     1  \n",
       "156     0  \n",
       "157     1  \n",
       "158     1  \n",
       "159     1  \n",
       "\n",
       "[160 rows x 5 columns]"
      ]
     },
     "execution_count": 141,
     "metadata": {},
     "output_type": "execute_result"
    }
   ],
   "source": [
    "joblist = []\n",
    "\n",
    "for link in ad_linksx:\n",
    "    browser.get(link)\n",
    "    time.sleep(random.uniform(3,5))\n",
    "\n",
    "    div = browser.find_elements(By.XPATH, './/li[@class=\"nl-product__content\"]/a[@class]')\n",
    "    # div = WebDriverWait(browser, 60).until(EC.presence_of_element_located((By.XPATH, './/li[@class=\"nl-product__content\"]/a[@class]')))\n",
    "\n",
    "    for item in div:\n",
    "        link = item.get_attribute('href')\n",
    "    #     brand = item.find_element(By.XPATH, './/p[@class=\"nl-product__brand\"]').text\n",
    "        title = item.find_element(By.XPATH, './/span[@class=\"shiitake-children\"]').text\n",
    "        sku = item.find_element(By.XPATH, './/p[@class=\"nl-product__code\"]').text.replace('#','').strip()\n",
    "    #     rating = item.find_element(By.XPATH, './/div[@class=\"bv_text\"]').text.strip()\n",
    "    #     review = item.find_element(By.XPATH, './/div[@class=\"bv_text\"][2]').text\n",
    "        price = item.find_element(By.XPATH, './/span[@class=\"nl-price--total\"]').text.replace('$','').strip()\n",
    "        stock = item.find_element(By.XPATH, './/div[@class=\"nl-product-card__availability-message\"]/div').text.replace(' In Stock','').replace('In stock online','1').strip()\n",
    "\n",
    "\n",
    "        job = {\n",
    "            'link' : link,\n",
    "    #         'brand' : brand,\n",
    "            'title' : title,\n",
    "            'sku' : sku,\n",
    "    #         'rating' : rating,\n",
    "    #         'review' : review,\n",
    "            'price' : price,\n",
    "            'stock' : stock\n",
    "                }\n",
    "\n",
    "        joblist.append(job)\n",
    "\n",
    "df = pd.DataFrame(joblist)\n",
    "df"
   ]
  },
  {
   "cell_type": "code",
   "execution_count": 142,
   "id": "60031fec",
   "metadata": {
    "ExecuteTime": {
     "end_time": "2022-09-16T00:16:50.078779Z",
     "start_time": "2022-09-16T00:16:49.851354Z"
    }
   },
   "outputs": [],
   "source": [
    "df.to_excel(r'C:\\Users\\Admin\\Desktop\\Planeamiento\\0. Resumes\\Canadian_Tire.xlsx')\n",
    "df = pd.read_excel(r'C:\\Users\\Admin\\Desktop\\Planeamiento\\0. Resumes\\Canadian_Tire.xlsx',index_col=0)"
   ]
  },
  {
   "cell_type": "code",
   "execution_count": 120,
   "id": "e81586b8",
   "metadata": {
    "ExecuteTime": {
     "end_time": "2022-09-15T18:31:35.663194Z",
     "start_time": "2022-09-15T18:31:35.625211Z"
    }
   },
   "outputs": [
    {
     "ename": "ValueError",
     "evalue": "could not convert string to float: '2,799.99'",
     "output_type": "error",
     "traceback": [
      "\u001b[1;31m---------------------------------------------------------------------------\u001b[0m",
      "\u001b[1;31mValueError\u001b[0m                                Traceback (most recent call last)",
      "\u001b[1;32m~\\AppData\\Local\\Temp/ipykernel_31480/3805199883.py\u001b[0m in \u001b[0;36m<module>\u001b[1;34m\u001b[0m\n\u001b[0;32m      1\u001b[0m \u001b[1;31m# df['rating'] = df.rating.astype(float)\u001b[0m\u001b[1;33m\u001b[0m\u001b[1;33m\u001b[0m\u001b[0m\n\u001b[1;32m----> 2\u001b[1;33m \u001b[0mdf\u001b[0m\u001b[1;33m[\u001b[0m\u001b[1;34m'price'\u001b[0m\u001b[1;33m]\u001b[0m \u001b[1;33m=\u001b[0m \u001b[0mdf\u001b[0m\u001b[1;33m[\u001b[0m\u001b[1;34m'price'\u001b[0m\u001b[1;33m]\u001b[0m\u001b[1;33m.\u001b[0m\u001b[0mastype\u001b[0m\u001b[1;33m(\u001b[0m\u001b[0mfloat\u001b[0m\u001b[1;33m)\u001b[0m\u001b[1;33m\u001b[0m\u001b[1;33m\u001b[0m\u001b[0m\n\u001b[0m\u001b[0;32m      3\u001b[0m \u001b[1;33m\u001b[0m\u001b[0m\n\u001b[0;32m      4\u001b[0m \u001b[1;31m# df['stock'] = df.stock.astype(float)\u001b[0m\u001b[1;33m\u001b[0m\u001b[1;33m\u001b[0m\u001b[0m\n\u001b[0;32m      5\u001b[0m \u001b[1;31m# df['value'] = df['price']*df['stock']\u001b[0m\u001b[1;33m\u001b[0m\u001b[1;33m\u001b[0m\u001b[0m\n",
      "\u001b[1;32m~\\anaconda3\\lib\\site-packages\\pandas\\core\\generic.py\u001b[0m in \u001b[0;36mastype\u001b[1;34m(self, dtype, copy, errors)\u001b[0m\n\u001b[0;32m   5813\u001b[0m         \u001b[1;32melse\u001b[0m\u001b[1;33m:\u001b[0m\u001b[1;33m\u001b[0m\u001b[1;33m\u001b[0m\u001b[0m\n\u001b[0;32m   5814\u001b[0m             \u001b[1;31m# else, only a single dtype is given\u001b[0m\u001b[1;33m\u001b[0m\u001b[1;33m\u001b[0m\u001b[0m\n\u001b[1;32m-> 5815\u001b[1;33m             \u001b[0mnew_data\u001b[0m \u001b[1;33m=\u001b[0m \u001b[0mself\u001b[0m\u001b[1;33m.\u001b[0m\u001b[0m_mgr\u001b[0m\u001b[1;33m.\u001b[0m\u001b[0mastype\u001b[0m\u001b[1;33m(\u001b[0m\u001b[0mdtype\u001b[0m\u001b[1;33m=\u001b[0m\u001b[0mdtype\u001b[0m\u001b[1;33m,\u001b[0m \u001b[0mcopy\u001b[0m\u001b[1;33m=\u001b[0m\u001b[0mcopy\u001b[0m\u001b[1;33m,\u001b[0m \u001b[0merrors\u001b[0m\u001b[1;33m=\u001b[0m\u001b[0merrors\u001b[0m\u001b[1;33m)\u001b[0m\u001b[1;33m\u001b[0m\u001b[1;33m\u001b[0m\u001b[0m\n\u001b[0m\u001b[0;32m   5816\u001b[0m             \u001b[1;32mreturn\u001b[0m \u001b[0mself\u001b[0m\u001b[1;33m.\u001b[0m\u001b[0m_constructor\u001b[0m\u001b[1;33m(\u001b[0m\u001b[0mnew_data\u001b[0m\u001b[1;33m)\u001b[0m\u001b[1;33m.\u001b[0m\u001b[0m__finalize__\u001b[0m\u001b[1;33m(\u001b[0m\u001b[0mself\u001b[0m\u001b[1;33m,\u001b[0m \u001b[0mmethod\u001b[0m\u001b[1;33m=\u001b[0m\u001b[1;34m\"astype\"\u001b[0m\u001b[1;33m)\u001b[0m\u001b[1;33m\u001b[0m\u001b[1;33m\u001b[0m\u001b[0m\n\u001b[0;32m   5817\u001b[0m \u001b[1;33m\u001b[0m\u001b[0m\n",
      "\u001b[1;32m~\\anaconda3\\lib\\site-packages\\pandas\\core\\internals\\managers.py\u001b[0m in \u001b[0;36mastype\u001b[1;34m(self, dtype, copy, errors)\u001b[0m\n\u001b[0;32m    416\u001b[0m \u001b[1;33m\u001b[0m\u001b[0m\n\u001b[0;32m    417\u001b[0m     \u001b[1;32mdef\u001b[0m \u001b[0mastype\u001b[0m\u001b[1;33m(\u001b[0m\u001b[0mself\u001b[0m\u001b[1;33m:\u001b[0m \u001b[0mT\u001b[0m\u001b[1;33m,\u001b[0m \u001b[0mdtype\u001b[0m\u001b[1;33m,\u001b[0m \u001b[0mcopy\u001b[0m\u001b[1;33m:\u001b[0m \u001b[0mbool\u001b[0m \u001b[1;33m=\u001b[0m \u001b[1;32mFalse\u001b[0m\u001b[1;33m,\u001b[0m \u001b[0merrors\u001b[0m\u001b[1;33m:\u001b[0m \u001b[0mstr\u001b[0m \u001b[1;33m=\u001b[0m \u001b[1;34m\"raise\"\u001b[0m\u001b[1;33m)\u001b[0m \u001b[1;33m->\u001b[0m \u001b[0mT\u001b[0m\u001b[1;33m:\u001b[0m\u001b[1;33m\u001b[0m\u001b[1;33m\u001b[0m\u001b[0m\n\u001b[1;32m--> 418\u001b[1;33m         \u001b[1;32mreturn\u001b[0m \u001b[0mself\u001b[0m\u001b[1;33m.\u001b[0m\u001b[0mapply\u001b[0m\u001b[1;33m(\u001b[0m\u001b[1;34m\"astype\"\u001b[0m\u001b[1;33m,\u001b[0m \u001b[0mdtype\u001b[0m\u001b[1;33m=\u001b[0m\u001b[0mdtype\u001b[0m\u001b[1;33m,\u001b[0m \u001b[0mcopy\u001b[0m\u001b[1;33m=\u001b[0m\u001b[0mcopy\u001b[0m\u001b[1;33m,\u001b[0m \u001b[0merrors\u001b[0m\u001b[1;33m=\u001b[0m\u001b[0merrors\u001b[0m\u001b[1;33m)\u001b[0m\u001b[1;33m\u001b[0m\u001b[1;33m\u001b[0m\u001b[0m\n\u001b[0m\u001b[0;32m    419\u001b[0m \u001b[1;33m\u001b[0m\u001b[0m\n\u001b[0;32m    420\u001b[0m     def convert(\n",
      "\u001b[1;32m~\\anaconda3\\lib\\site-packages\\pandas\\core\\internals\\managers.py\u001b[0m in \u001b[0;36mapply\u001b[1;34m(self, f, align_keys, ignore_failures, **kwargs)\u001b[0m\n\u001b[0;32m    325\u001b[0m                     \u001b[0mapplied\u001b[0m \u001b[1;33m=\u001b[0m \u001b[0mb\u001b[0m\u001b[1;33m.\u001b[0m\u001b[0mapply\u001b[0m\u001b[1;33m(\u001b[0m\u001b[0mf\u001b[0m\u001b[1;33m,\u001b[0m \u001b[1;33m**\u001b[0m\u001b[0mkwargs\u001b[0m\u001b[1;33m)\u001b[0m\u001b[1;33m\u001b[0m\u001b[1;33m\u001b[0m\u001b[0m\n\u001b[0;32m    326\u001b[0m                 \u001b[1;32melse\u001b[0m\u001b[1;33m:\u001b[0m\u001b[1;33m\u001b[0m\u001b[1;33m\u001b[0m\u001b[0m\n\u001b[1;32m--> 327\u001b[1;33m                     \u001b[0mapplied\u001b[0m \u001b[1;33m=\u001b[0m \u001b[0mgetattr\u001b[0m\u001b[1;33m(\u001b[0m\u001b[0mb\u001b[0m\u001b[1;33m,\u001b[0m \u001b[0mf\u001b[0m\u001b[1;33m)\u001b[0m\u001b[1;33m(\u001b[0m\u001b[1;33m**\u001b[0m\u001b[0mkwargs\u001b[0m\u001b[1;33m)\u001b[0m\u001b[1;33m\u001b[0m\u001b[1;33m\u001b[0m\u001b[0m\n\u001b[0m\u001b[0;32m    328\u001b[0m             \u001b[1;32mexcept\u001b[0m \u001b[1;33m(\u001b[0m\u001b[0mTypeError\u001b[0m\u001b[1;33m,\u001b[0m \u001b[0mNotImplementedError\u001b[0m\u001b[1;33m)\u001b[0m\u001b[1;33m:\u001b[0m\u001b[1;33m\u001b[0m\u001b[1;33m\u001b[0m\u001b[0m\n\u001b[0;32m    329\u001b[0m                 \u001b[1;32mif\u001b[0m \u001b[1;32mnot\u001b[0m \u001b[0mignore_failures\u001b[0m\u001b[1;33m:\u001b[0m\u001b[1;33m\u001b[0m\u001b[1;33m\u001b[0m\u001b[0m\n",
      "\u001b[1;32m~\\anaconda3\\lib\\site-packages\\pandas\\core\\internals\\blocks.py\u001b[0m in \u001b[0;36mastype\u001b[1;34m(self, dtype, copy, errors)\u001b[0m\n\u001b[0;32m    589\u001b[0m         \u001b[0mvalues\u001b[0m \u001b[1;33m=\u001b[0m \u001b[0mself\u001b[0m\u001b[1;33m.\u001b[0m\u001b[0mvalues\u001b[0m\u001b[1;33m\u001b[0m\u001b[1;33m\u001b[0m\u001b[0m\n\u001b[0;32m    590\u001b[0m \u001b[1;33m\u001b[0m\u001b[0m\n\u001b[1;32m--> 591\u001b[1;33m         \u001b[0mnew_values\u001b[0m \u001b[1;33m=\u001b[0m \u001b[0mastype_array_safe\u001b[0m\u001b[1;33m(\u001b[0m\u001b[0mvalues\u001b[0m\u001b[1;33m,\u001b[0m \u001b[0mdtype\u001b[0m\u001b[1;33m,\u001b[0m \u001b[0mcopy\u001b[0m\u001b[1;33m=\u001b[0m\u001b[0mcopy\u001b[0m\u001b[1;33m,\u001b[0m \u001b[0merrors\u001b[0m\u001b[1;33m=\u001b[0m\u001b[0merrors\u001b[0m\u001b[1;33m)\u001b[0m\u001b[1;33m\u001b[0m\u001b[1;33m\u001b[0m\u001b[0m\n\u001b[0m\u001b[0;32m    592\u001b[0m \u001b[1;33m\u001b[0m\u001b[0m\n\u001b[0;32m    593\u001b[0m         \u001b[0mnew_values\u001b[0m \u001b[1;33m=\u001b[0m \u001b[0mmaybe_coerce_values\u001b[0m\u001b[1;33m(\u001b[0m\u001b[0mnew_values\u001b[0m\u001b[1;33m)\u001b[0m\u001b[1;33m\u001b[0m\u001b[1;33m\u001b[0m\u001b[0m\n",
      "\u001b[1;32m~\\anaconda3\\lib\\site-packages\\pandas\\core\\dtypes\\cast.py\u001b[0m in \u001b[0;36mastype_array_safe\u001b[1;34m(values, dtype, copy, errors)\u001b[0m\n\u001b[0;32m   1307\u001b[0m \u001b[1;33m\u001b[0m\u001b[0m\n\u001b[0;32m   1308\u001b[0m     \u001b[1;32mtry\u001b[0m\u001b[1;33m:\u001b[0m\u001b[1;33m\u001b[0m\u001b[1;33m\u001b[0m\u001b[0m\n\u001b[1;32m-> 1309\u001b[1;33m         \u001b[0mnew_values\u001b[0m \u001b[1;33m=\u001b[0m \u001b[0mastype_array\u001b[0m\u001b[1;33m(\u001b[0m\u001b[0mvalues\u001b[0m\u001b[1;33m,\u001b[0m \u001b[0mdtype\u001b[0m\u001b[1;33m,\u001b[0m \u001b[0mcopy\u001b[0m\u001b[1;33m=\u001b[0m\u001b[0mcopy\u001b[0m\u001b[1;33m)\u001b[0m\u001b[1;33m\u001b[0m\u001b[1;33m\u001b[0m\u001b[0m\n\u001b[0m\u001b[0;32m   1310\u001b[0m     \u001b[1;32mexcept\u001b[0m \u001b[1;33m(\u001b[0m\u001b[0mValueError\u001b[0m\u001b[1;33m,\u001b[0m \u001b[0mTypeError\u001b[0m\u001b[1;33m)\u001b[0m\u001b[1;33m:\u001b[0m\u001b[1;33m\u001b[0m\u001b[1;33m\u001b[0m\u001b[0m\n\u001b[0;32m   1311\u001b[0m         \u001b[1;31m# e.g. astype_nansafe can fail on object-dtype of strings\u001b[0m\u001b[1;33m\u001b[0m\u001b[1;33m\u001b[0m\u001b[0m\n",
      "\u001b[1;32m~\\anaconda3\\lib\\site-packages\\pandas\\core\\dtypes\\cast.py\u001b[0m in \u001b[0;36mastype_array\u001b[1;34m(values, dtype, copy)\u001b[0m\n\u001b[0;32m   1255\u001b[0m \u001b[1;33m\u001b[0m\u001b[0m\n\u001b[0;32m   1256\u001b[0m     \u001b[1;32melse\u001b[0m\u001b[1;33m:\u001b[0m\u001b[1;33m\u001b[0m\u001b[1;33m\u001b[0m\u001b[0m\n\u001b[1;32m-> 1257\u001b[1;33m         \u001b[0mvalues\u001b[0m \u001b[1;33m=\u001b[0m \u001b[0mastype_nansafe\u001b[0m\u001b[1;33m(\u001b[0m\u001b[0mvalues\u001b[0m\u001b[1;33m,\u001b[0m \u001b[0mdtype\u001b[0m\u001b[1;33m,\u001b[0m \u001b[0mcopy\u001b[0m\u001b[1;33m=\u001b[0m\u001b[0mcopy\u001b[0m\u001b[1;33m)\u001b[0m\u001b[1;33m\u001b[0m\u001b[1;33m\u001b[0m\u001b[0m\n\u001b[0m\u001b[0;32m   1258\u001b[0m \u001b[1;33m\u001b[0m\u001b[0m\n\u001b[0;32m   1259\u001b[0m     \u001b[1;31m# in pandas we don't store numpy str dtypes, so convert to object\u001b[0m\u001b[1;33m\u001b[0m\u001b[1;33m\u001b[0m\u001b[0m\n",
      "\u001b[1;32m~\\anaconda3\\lib\\site-packages\\pandas\\core\\dtypes\\cast.py\u001b[0m in \u001b[0;36mastype_nansafe\u001b[1;34m(arr, dtype, copy, skipna)\u001b[0m\n\u001b[0;32m   1199\u001b[0m     \u001b[1;32mif\u001b[0m \u001b[0mcopy\u001b[0m \u001b[1;32mor\u001b[0m \u001b[0mis_object_dtype\u001b[0m\u001b[1;33m(\u001b[0m\u001b[0marr\u001b[0m\u001b[1;33m.\u001b[0m\u001b[0mdtype\u001b[0m\u001b[1;33m)\u001b[0m \u001b[1;32mor\u001b[0m \u001b[0mis_object_dtype\u001b[0m\u001b[1;33m(\u001b[0m\u001b[0mdtype\u001b[0m\u001b[1;33m)\u001b[0m\u001b[1;33m:\u001b[0m\u001b[1;33m\u001b[0m\u001b[1;33m\u001b[0m\u001b[0m\n\u001b[0;32m   1200\u001b[0m         \u001b[1;31m# Explicit copy, or required since NumPy can't view from / to object.\u001b[0m\u001b[1;33m\u001b[0m\u001b[1;33m\u001b[0m\u001b[0m\n\u001b[1;32m-> 1201\u001b[1;33m         \u001b[1;32mreturn\u001b[0m \u001b[0marr\u001b[0m\u001b[1;33m.\u001b[0m\u001b[0mastype\u001b[0m\u001b[1;33m(\u001b[0m\u001b[0mdtype\u001b[0m\u001b[1;33m,\u001b[0m \u001b[0mcopy\u001b[0m\u001b[1;33m=\u001b[0m\u001b[1;32mTrue\u001b[0m\u001b[1;33m)\u001b[0m\u001b[1;33m\u001b[0m\u001b[1;33m\u001b[0m\u001b[0m\n\u001b[0m\u001b[0;32m   1202\u001b[0m \u001b[1;33m\u001b[0m\u001b[0m\n\u001b[0;32m   1203\u001b[0m     \u001b[1;32mreturn\u001b[0m \u001b[0marr\u001b[0m\u001b[1;33m.\u001b[0m\u001b[0mastype\u001b[0m\u001b[1;33m(\u001b[0m\u001b[0mdtype\u001b[0m\u001b[1;33m,\u001b[0m \u001b[0mcopy\u001b[0m\u001b[1;33m=\u001b[0m\u001b[0mcopy\u001b[0m\u001b[1;33m)\u001b[0m\u001b[1;33m\u001b[0m\u001b[1;33m\u001b[0m\u001b[0m\n",
      "\u001b[1;31mValueError\u001b[0m: could not convert string to float: '2,799.99'"
     ]
    }
   ],
   "source": [
    "# df['rating'] = df.rating.astype(float)\n",
    "df['price'] = df['price'].astype(float)\n",
    "\n",
    "# df['stock'] = df.stock.astype(float) \n",
    "# df['value'] = df['price']*df['stock']\n",
    "# df = df.drop_duplicates(subset =['brand', 'title', 'link'], keep = 'first')\n",
    "# df = df.sort_values(by=['value'], ascending=False)\n",
    "\n",
    "df"
   ]
  },
  {
   "cell_type": "code",
   "execution_count": null,
   "id": "6662ff5b",
   "metadata": {
    "ExecuteTime": {
     "end_time": "2022-09-04T04:58:25.983163Z",
     "start_time": "2022-09-04T04:58:25.983163Z"
    }
   },
   "outputs": [],
   "source": [
    "# df.to_excel(r'E:\\Planeamiento\\Pack_laboral\\Model\\Base\\Canadian_tire.xlsx', encoding='utf8')\n",
    "df.to_csv(r'E:\\Planeamiento\\Pack_laboral\\Model\\Base\\Canadian_tire.csv',index=False)"
   ]
  },
  {
   "cell_type": "markdown",
   "id": "54ff02f1",
   "metadata": {},
   "source": [
    "## Pruebas"
   ]
  },
  {
   "cell_type": "code",
   "execution_count": null,
   "id": "5eb9e95b",
   "metadata": {
    "ExecuteTime": {
     "end_time": "2022-09-04T04:58:25.985152Z",
     "start_time": "2022-09-04T04:58:25.985152Z"
    }
   },
   "outputs": [],
   "source": [
    "# title = browser.find_element(By.XPATH, './/li[@class=\"nl-product__content\"]/a').get_attribute('href')\n",
    "# title"
   ]
  },
  {
   "cell_type": "code",
   "execution_count": null,
   "id": "a7cc6d77",
   "metadata": {
    "ExecuteTime": {
     "end_time": "2022-09-04T04:58:25.987156Z",
     "start_time": "2022-09-04T04:58:25.987156Z"
    }
   },
   "outputs": [],
   "source": [
    "# password = WebDriverWait(browser, 60).until(EC.presence_of_element_located((By.XPATH, './/input[@id=\"where\"]'))).send_keys('Winnipeg')\n",
    "# WebDriverWait(browser, 60).until(EC.presence_of_element_located((By.XPATH, './/input[@id=\"whatwho\"]'))).clear()\n",
    "# n = browser.find_element(By.XPATH, './/span[@class=\"pagination_summary\"]').text\n",
    "# n\n",
    "# div = browser.find_element(By.XPATH, './/div[@class=\"bv_averageRating_component_container\"]/div').text\n",
    "# div\n",
    "\n",
    "# base URL for the Kijiji website"
   ]
  }
 ],
 "metadata": {
  "hide_input": false,
  "kernelspec": {
   "display_name": "Python 3 (ipykernel)",
   "language": "python",
   "name": "python3"
  },
  "language_info": {
   "codemirror_mode": {
    "name": "ipython",
    "version": 3
   },
   "file_extension": ".py",
   "mimetype": "text/x-python",
   "name": "python",
   "nbconvert_exporter": "python",
   "pygments_lexer": "ipython3",
   "version": "3.9.7"
  },
  "nbTranslate": {
   "displayLangs": [
    "*"
   ],
   "hotkey": "alt-t",
   "langInMainMenu": true,
   "sourceLang": "en",
   "targetLang": "fr",
   "useGoogleTranslate": true
  },
  "toc": {
   "base_numbering": 1,
   "nav_menu": {},
   "number_sections": true,
   "sideBar": true,
   "skip_h1_title": false,
   "title_cell": "Table of Contents",
   "title_sidebar": "Contents",
   "toc_cell": false,
   "toc_position": {},
   "toc_section_display": true,
   "toc_window_display": false
  }
 },
 "nbformat": 4,
 "nbformat_minor": 5
}
